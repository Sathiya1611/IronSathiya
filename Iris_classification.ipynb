{
 "cells": [
  {
   "cell_type": "markdown",
   "id": "ba83deae",
   "metadata": {},
   "source": [
    "# Iris_flower_classification"
   ]
  },
  {
   "cell_type": "code",
   "execution_count": 27,
   "id": "77e918d6",
   "metadata": {},
   "outputs": [],
   "source": [
    "import pandas as pd\n",
    "import numpy as np\n",
    "import matplotlib.pyplot as plt"
   ]
  },
  {
   "cell_type": "code",
   "execution_count": 28,
   "id": "30a7ad8c",
   "metadata": {},
   "outputs": [],
   "source": [
    "data = pd.read_csv('IRIS.csv')"
   ]
  },
  {
   "cell_type": "code",
   "execution_count": 29,
   "id": "db14c1cf",
   "metadata": {},
   "outputs": [
    {
     "data": {
      "text/html": [
       "<div>\n",
       "<style scoped>\n",
       "    .dataframe tbody tr th:only-of-type {\n",
       "        vertical-align: middle;\n",
       "    }\n",
       "\n",
       "    .dataframe tbody tr th {\n",
       "        vertical-align: top;\n",
       "    }\n",
       "\n",
       "    .dataframe thead th {\n",
       "        text-align: right;\n",
       "    }\n",
       "</style>\n",
       "<table border=\"1\" class=\"dataframe\">\n",
       "  <thead>\n",
       "    <tr style=\"text-align: right;\">\n",
       "      <th></th>\n",
       "      <th>sepal_length</th>\n",
       "      <th>sepal_width</th>\n",
       "      <th>petal_length</th>\n",
       "      <th>petal_width</th>\n",
       "      <th>species</th>\n",
       "    </tr>\n",
       "  </thead>\n",
       "  <tbody>\n",
       "    <tr>\n",
       "      <th>0</th>\n",
       "      <td>5.1</td>\n",
       "      <td>3.5</td>\n",
       "      <td>1.4</td>\n",
       "      <td>0.2</td>\n",
       "      <td>Iris-setosa</td>\n",
       "    </tr>\n",
       "    <tr>\n",
       "      <th>1</th>\n",
       "      <td>4.9</td>\n",
       "      <td>3.0</td>\n",
       "      <td>1.4</td>\n",
       "      <td>0.2</td>\n",
       "      <td>Iris-setosa</td>\n",
       "    </tr>\n",
       "    <tr>\n",
       "      <th>2</th>\n",
       "      <td>4.7</td>\n",
       "      <td>3.2</td>\n",
       "      <td>1.3</td>\n",
       "      <td>0.2</td>\n",
       "      <td>Iris-setosa</td>\n",
       "    </tr>\n",
       "    <tr>\n",
       "      <th>3</th>\n",
       "      <td>4.6</td>\n",
       "      <td>3.1</td>\n",
       "      <td>1.5</td>\n",
       "      <td>0.2</td>\n",
       "      <td>Iris-setosa</td>\n",
       "    </tr>\n",
       "    <tr>\n",
       "      <th>4</th>\n",
       "      <td>5.0</td>\n",
       "      <td>3.6</td>\n",
       "      <td>1.4</td>\n",
       "      <td>0.2</td>\n",
       "      <td>Iris-setosa</td>\n",
       "    </tr>\n",
       "  </tbody>\n",
       "</table>\n",
       "</div>"
      ],
      "text/plain": [
       "   sepal_length  sepal_width  petal_length  petal_width      species\n",
       "0           5.1          3.5           1.4          0.2  Iris-setosa\n",
       "1           4.9          3.0           1.4          0.2  Iris-setosa\n",
       "2           4.7          3.2           1.3          0.2  Iris-setosa\n",
       "3           4.6          3.1           1.5          0.2  Iris-setosa\n",
       "4           5.0          3.6           1.4          0.2  Iris-setosa"
      ]
     },
     "execution_count": 29,
     "metadata": {},
     "output_type": "execute_result"
    }
   ],
   "source": [
    "data.head()"
   ]
  },
  {
   "cell_type": "code",
   "execution_count": 30,
   "id": "9d1ed063",
   "metadata": {},
   "outputs": [
    {
     "data": {
      "text/plain": [
       "(150, 5)"
      ]
     },
     "execution_count": 30,
     "metadata": {},
     "output_type": "execute_result"
    }
   ],
   "source": [
    "data.shape"
   ]
  },
  {
   "cell_type": "code",
   "execution_count": 31,
   "id": "6e815ee8",
   "metadata": {},
   "outputs": [
    {
     "data": {
      "text/html": [
       "<div>\n",
       "<style scoped>\n",
       "    .dataframe tbody tr th:only-of-type {\n",
       "        vertical-align: middle;\n",
       "    }\n",
       "\n",
       "    .dataframe tbody tr th {\n",
       "        vertical-align: top;\n",
       "    }\n",
       "\n",
       "    .dataframe thead th {\n",
       "        text-align: right;\n",
       "    }\n",
       "</style>\n",
       "<table border=\"1\" class=\"dataframe\">\n",
       "  <thead>\n",
       "    <tr style=\"text-align: right;\">\n",
       "      <th></th>\n",
       "      <th>sepal_length</th>\n",
       "      <th>sepal_width</th>\n",
       "      <th>petal_length</th>\n",
       "      <th>petal_width</th>\n",
       "    </tr>\n",
       "  </thead>\n",
       "  <tbody>\n",
       "    <tr>\n",
       "      <th>count</th>\n",
       "      <td>150.000000</td>\n",
       "      <td>150.000000</td>\n",
       "      <td>150.000000</td>\n",
       "      <td>150.000000</td>\n",
       "    </tr>\n",
       "    <tr>\n",
       "      <th>mean</th>\n",
       "      <td>5.843333</td>\n",
       "      <td>3.054000</td>\n",
       "      <td>3.758667</td>\n",
       "      <td>1.198667</td>\n",
       "    </tr>\n",
       "    <tr>\n",
       "      <th>std</th>\n",
       "      <td>0.828066</td>\n",
       "      <td>0.433594</td>\n",
       "      <td>1.764420</td>\n",
       "      <td>0.763161</td>\n",
       "    </tr>\n",
       "    <tr>\n",
       "      <th>min</th>\n",
       "      <td>4.300000</td>\n",
       "      <td>2.000000</td>\n",
       "      <td>1.000000</td>\n",
       "      <td>0.100000</td>\n",
       "    </tr>\n",
       "    <tr>\n",
       "      <th>25%</th>\n",
       "      <td>5.100000</td>\n",
       "      <td>2.800000</td>\n",
       "      <td>1.600000</td>\n",
       "      <td>0.300000</td>\n",
       "    </tr>\n",
       "    <tr>\n",
       "      <th>50%</th>\n",
       "      <td>5.800000</td>\n",
       "      <td>3.000000</td>\n",
       "      <td>4.350000</td>\n",
       "      <td>1.300000</td>\n",
       "    </tr>\n",
       "    <tr>\n",
       "      <th>75%</th>\n",
       "      <td>6.400000</td>\n",
       "      <td>3.300000</td>\n",
       "      <td>5.100000</td>\n",
       "      <td>1.800000</td>\n",
       "    </tr>\n",
       "    <tr>\n",
       "      <th>max</th>\n",
       "      <td>7.900000</td>\n",
       "      <td>4.400000</td>\n",
       "      <td>6.900000</td>\n",
       "      <td>2.500000</td>\n",
       "    </tr>\n",
       "  </tbody>\n",
       "</table>\n",
       "</div>"
      ],
      "text/plain": [
       "       sepal_length  sepal_width  petal_length  petal_width\n",
       "count    150.000000   150.000000    150.000000   150.000000\n",
       "mean       5.843333     3.054000      3.758667     1.198667\n",
       "std        0.828066     0.433594      1.764420     0.763161\n",
       "min        4.300000     2.000000      1.000000     0.100000\n",
       "25%        5.100000     2.800000      1.600000     0.300000\n",
       "50%        5.800000     3.000000      4.350000     1.300000\n",
       "75%        6.400000     3.300000      5.100000     1.800000\n",
       "max        7.900000     4.400000      6.900000     2.500000"
      ]
     },
     "execution_count": 31,
     "metadata": {},
     "output_type": "execute_result"
    }
   ],
   "source": [
    "data.describe()"
   ]
  },
  {
   "cell_type": "code",
   "execution_count": 32,
   "id": "46d01ac3",
   "metadata": {},
   "outputs": [
    {
     "name": "stdout",
     "output_type": "stream",
     "text": [
      "<class 'pandas.core.frame.DataFrame'>\n",
      "RangeIndex: 150 entries, 0 to 149\n",
      "Data columns (total 5 columns):\n",
      " #   Column        Non-Null Count  Dtype  \n",
      "---  ------        --------------  -----  \n",
      " 0   sepal_length  150 non-null    float64\n",
      " 1   sepal_width   150 non-null    float64\n",
      " 2   petal_length  150 non-null    float64\n",
      " 3   petal_width   150 non-null    float64\n",
      " 4   species       150 non-null    object \n",
      "dtypes: float64(4), object(1)\n",
      "memory usage: 6.0+ KB\n"
     ]
    }
   ],
   "source": [
    "data.info()"
   ]
  },
  {
   "cell_type": "code",
   "execution_count": 33,
   "id": "e8fa730b",
   "metadata": {},
   "outputs": [
    {
     "data": {
      "text/plain": [
       "3"
      ]
     },
     "execution_count": 33,
     "metadata": {},
     "output_type": "execute_result"
    }
   ],
   "source": [
    "data.duplicated().sum()"
   ]
  },
  {
   "cell_type": "code",
   "execution_count": 34,
   "id": "9dae3365",
   "metadata": {},
   "outputs": [
    {
     "data": {
      "text/plain": [
       "Iris-virginica     50\n",
       "Iris-setosa        50\n",
       "Iris-versicolor    50\n",
       "Name: species, dtype: int64"
      ]
     },
     "execution_count": 34,
     "metadata": {},
     "output_type": "execute_result"
    }
   ],
   "source": [
    "data['species'].value_counts()"
   ]
  },
  {
   "cell_type": "code",
   "execution_count": 35,
   "id": "ce13d902",
   "metadata": {},
   "outputs": [
    {
     "data": {
      "text/plain": [
       "sepal_length    0\n",
       "sepal_width     0\n",
       "petal_length    0\n",
       "petal_width     0\n",
       "species         0\n",
       "dtype: int64"
      ]
     },
     "execution_count": 35,
     "metadata": {},
     "output_type": "execute_result"
    }
   ],
   "source": [
    "data.isna().sum()"
   ]
  },
  {
   "cell_type": "code",
   "execution_count": 36,
   "id": "e7e885f2",
   "metadata": {},
   "outputs": [],
   "source": [
    "X = data.iloc[:, :-1].values\n",
    "y = data.iloc[:, -1].values"
   ]
  },
  {
   "cell_type": "code",
   "execution_count": 37,
   "id": "3d279dc4",
   "metadata": {},
   "outputs": [],
   "source": [
    "from sklearn.model_selection import train_test_split\n",
    "X_train, X_test, y_train, y_test = train_test_split(X, y, test_size = 0.2, random_state = 40)"
   ]
  },
  {
   "cell_type": "code",
   "execution_count": 38,
   "id": "ad400069",
   "metadata": {},
   "outputs": [
    {
     "name": "stdout",
     "output_type": "stream",
     "text": [
      "[[6.  2.2 4.  1. ]\n",
      " [5.1 3.3 1.7 0.5]\n",
      " [5.  3.4 1.6 0.4]\n",
      " [5.3 3.7 1.5 0.2]\n",
      " [4.7 3.2 1.3 0.2]\n",
      " [6.4 2.8 5.6 2.1]\n",
      " [4.6 3.4 1.4 0.3]\n",
      " [4.4 3.2 1.3 0.2]\n",
      " [5.7 2.5 5.  2. ]\n",
      " [5.7 4.4 1.5 0.4]\n",
      " [4.6 3.1 1.5 0.2]\n",
      " [6.7 3.1 4.7 1.5]\n",
      " [6.1 3.  4.9 1.8]\n",
      " [7.1 3.  5.9 2.1]\n",
      " [7.2 3.2 6.  1.8]\n",
      " [5.1 3.4 1.5 0.2]\n",
      " [7.7 2.6 6.9 2.3]\n",
      " [6.  3.  4.8 1.8]\n",
      " [6.6 3.  4.4 1.4]\n",
      " [4.9 3.1 1.5 0.1]\n",
      " [6.3 3.3 6.  2.5]\n",
      " [6.5 2.8 4.6 1.5]\n",
      " [5.8 2.7 4.1 1. ]\n",
      " [6.2 2.9 4.3 1.3]\n",
      " [4.8 3.4 1.9 0.2]\n",
      " [5.4 3.9 1.3 0.4]\n",
      " [5.7 2.9 4.2 1.3]\n",
      " [5.6 2.5 3.9 1.1]\n",
      " [6.4 2.7 5.3 1.9]\n",
      " [6.3 2.8 5.1 1.5]\n",
      " [5.  3.6 1.4 0.2]\n",
      " [6.8 3.2 5.9 2.3]\n",
      " [5.9 3.  4.2 1.5]\n",
      " [5.4 3.7 1.5 0.2]\n",
      " [6.8 3.  5.5 2.1]\n",
      " [4.8 3.  1.4 0.3]\n",
      " [4.7 3.2 1.6 0.2]\n",
      " [7.7 2.8 6.7 2. ]\n",
      " [4.6 3.2 1.4 0.2]\n",
      " [7.2 3.  5.8 1.6]\n",
      " [6.5 3.2 5.1 2. ]\n",
      " [5.4 3.4 1.7 0.2]\n",
      " [6.5 3.  5.2 2. ]\n",
      " [6.4 3.2 4.5 1.5]\n",
      " [5.2 4.1 1.5 0.1]\n",
      " [5.1 3.7 1.5 0.4]\n",
      " [6.7 3.1 5.6 2.4]\n",
      " [5.2 3.5 1.5 0.2]\n",
      " [6.4 3.1 5.5 1.8]\n",
      " [6.3 2.5 5.  1.9]\n",
      " [6.7 3.  5.  1.7]\n",
      " [6.3 3.3 4.7 1.6]\n",
      " [6.7 3.  5.2 2.3]\n",
      " [6.  2.9 4.5 1.5]\n",
      " [7.7 3.  6.1 2.3]\n",
      " [4.9 3.1 1.5 0.1]\n",
      " [5.8 2.7 5.1 1.9]\n",
      " [6.3 2.5 4.9 1.5]\n",
      " [6.9 3.1 4.9 1.5]\n",
      " [5.5 4.2 1.4 0.2]\n",
      " [4.9 3.  1.4 0.2]\n",
      " [5.1 3.5 1.4 0.2]\n",
      " [6.9 3.2 5.7 2.3]\n",
      " [5.8 2.7 5.1 1.9]\n",
      " [6.1 2.9 4.7 1.4]\n",
      " [5.5 3.5 1.3 0.2]\n",
      " [6.  3.4 4.5 1.6]\n",
      " [6.3 2.9 5.6 1.8]\n",
      " [7.2 3.6 6.1 2.5]\n",
      " [4.9 2.4 3.3 1. ]\n",
      " [5.9 3.  5.1 1.8]\n",
      " [6.  2.2 5.  1.5]\n",
      " [6.6 2.9 4.6 1.3]\n",
      " [6.  2.7 5.1 1.6]\n",
      " [5.  3.  1.6 0.2]\n",
      " [5.  2.3 3.3 1. ]\n",
      " [5.6 3.  4.1 1.3]\n",
      " [7.3 2.9 6.3 1.8]\n",
      " [5.7 3.  4.2 1.2]\n",
      " [7.4 2.8 6.1 1.9]\n",
      " [4.5 2.3 1.3 0.3]\n",
      " [6.1 2.6 5.6 1.4]\n",
      " [6.2 3.4 5.4 2.3]\n",
      " [6.7 3.1 4.4 1.4]\n",
      " [5.5 2.4 3.8 1.1]\n",
      " [5.4 3.9 1.7 0.4]\n",
      " [6.7 2.5 5.8 1.8]\n",
      " [5.8 2.7 3.9 1.2]\n",
      " [5.4 3.4 1.5 0.4]\n",
      " [5.1 2.5 3.  1.1]\n",
      " [4.9 2.5 4.5 1.7]\n",
      " [5.  3.2 1.2 0.2]\n",
      " [5.  3.5 1.6 0.6]\n",
      " [5.6 2.8 4.9 2. ]\n",
      " [6.3 2.3 4.4 1.3]\n",
      " [5.1 3.8 1.6 0.2]\n",
      " [5.1 3.8 1.9 0.4]\n",
      " [5.  2.  3.5 1. ]\n",
      " [4.8 3.1 1.6 0.2]\n",
      " [6.9 3.1 5.1 2.3]\n",
      " [5.7 2.8 4.1 1.3]\n",
      " [7.9 3.8 6.4 2. ]\n",
      " [4.6 3.6 1.  0.2]\n",
      " [6.5 3.  5.8 2.2]\n",
      " [5.8 2.6 4.  1.2]\n",
      " [5.8 4.  1.2 0.2]\n",
      " [4.4 2.9 1.4 0.2]\n",
      " [6.9 3.1 5.4 2.1]\n",
      " [5.  3.3 1.4 0.2]\n",
      " [6.1 2.8 4.7 1.2]\n",
      " [6.1 3.  4.6 1.4]\n",
      " [5.7 2.8 4.5 1.3]\n",
      " [6.4 2.9 4.3 1.3]\n",
      " [5.1 3.8 1.5 0.3]\n",
      " [5.8 2.8 5.1 2.4]\n",
      " [6.1 2.8 4.  1.3]\n",
      " [4.8 3.  1.4 0.1]\n",
      " [7.  3.2 4.7 1.4]\n",
      " [5.  3.4 1.5 0.2]\n",
      " [5.9 3.2 4.8 1.8]]\n"
     ]
    }
   ],
   "source": [
    "print(X_train)"
   ]
  },
  {
   "cell_type": "code",
   "execution_count": 39,
   "id": "23d27555",
   "metadata": {},
   "outputs": [
    {
     "name": "stdout",
     "output_type": "stream",
     "text": [
      "[[4.4 3.  1.3 0.2]\n",
      " [5.6 3.  4.5 1.5]\n",
      " [6.4 3.2 5.3 2.3]\n",
      " [7.7 3.8 6.7 2.2]\n",
      " [5.5 2.5 4.  1.3]\n",
      " [6.3 3.4 5.6 2.4]\n",
      " [6.2 2.2 4.5 1.5]\n",
      " [5.6 2.7 4.2 1.3]\n",
      " [5.4 3.  4.5 1.5]\n",
      " [5.2 3.4 1.4 0.2]\n",
      " [5.5 2.6 4.4 1.2]\n",
      " [4.8 3.4 1.6 0.2]\n",
      " [5.  3.5 1.3 0.3]\n",
      " [6.2 2.8 4.8 1.8]\n",
      " [5.7 2.6 3.5 1. ]\n",
      " [6.7 3.3 5.7 2.5]\n",
      " [6.3 2.7 4.9 1.8]\n",
      " [6.7 3.3 5.7 2.1]\n",
      " [6.8 2.8 4.8 1.4]\n",
      " [5.2 2.7 3.9 1.4]\n",
      " [6.4 2.8 5.6 2.2]\n",
      " [7.6 3.  6.6 2.1]\n",
      " [5.5 2.3 4.  1.3]\n",
      " [5.1 3.5 1.4 0.3]\n",
      " [5.6 2.9 3.6 1.3]\n",
      " [5.7 3.8 1.7 0.3]\n",
      " [4.3 3.  1.1 0.1]\n",
      " [6.5 3.  5.5 1.8]\n",
      " [4.9 3.1 1.5 0.1]\n",
      " [5.5 2.4 3.7 1. ]]\n"
     ]
    }
   ],
   "source": [
    "print(X_test)"
   ]
  },
  {
   "cell_type": "code",
   "execution_count": 40,
   "id": "9b727e55",
   "metadata": {},
   "outputs": [
    {
     "name": "stdout",
     "output_type": "stream",
     "text": [
      "['Iris-setosa' 'Iris-versicolor' 'Iris-virginica' 'Iris-virginica'\n",
      " 'Iris-versicolor' 'Iris-virginica' 'Iris-versicolor' 'Iris-versicolor'\n",
      " 'Iris-versicolor' 'Iris-setosa' 'Iris-versicolor' 'Iris-setosa'\n",
      " 'Iris-setosa' 'Iris-virginica' 'Iris-versicolor' 'Iris-virginica'\n",
      " 'Iris-virginica' 'Iris-virginica' 'Iris-versicolor' 'Iris-versicolor'\n",
      " 'Iris-virginica' 'Iris-virginica' 'Iris-versicolor' 'Iris-setosa'\n",
      " 'Iris-versicolor' 'Iris-setosa' 'Iris-setosa' 'Iris-virginica'\n",
      " 'Iris-setosa' 'Iris-versicolor']\n"
     ]
    }
   ],
   "source": [
    "print(y_test)"
   ]
  },
  {
   "cell_type": "code",
   "execution_count": 41,
   "id": "22c432a0",
   "metadata": {},
   "outputs": [],
   "source": [
    "# feature scaling\n",
    "# gives the same accuracy without using this as well\n",
    "from sklearn.preprocessing import StandardScaler\n",
    "sc = StandardScaler()\n",
    "X_train = sc.fit_transform(X_train)\n",
    "X_test = sc.transform(X_test)"
   ]
  },
  {
   "cell_type": "code",
   "execution_count": 42,
   "id": "8d04b37c",
   "metadata": {},
   "outputs": [
    {
     "name": "stdout",
     "output_type": "stream",
     "text": [
      "[[ 0.17933237 -1.99103262  0.15750151 -0.23238463]\n",
      " [-0.90875166  0.52636495 -1.14012284 -0.89007697]\n",
      " [-1.02964989  0.75521927 -1.19654129 -1.02161543]\n",
      " [-0.66695521  1.44178224 -1.25295974 -1.28469237]\n",
      " [-1.39234456  0.29751062 -1.36579664 -1.28469237]\n",
      " [ 0.66292527 -0.61790668  1.0601967   1.21453852]\n",
      " [-1.51324279  0.75521927 -1.30937819 -1.1531539 ]\n",
      " [-1.75503924  0.29751062 -1.36579664 -1.28469237]\n",
      " [-0.18336231 -1.30446965  0.721686    1.08300005]\n",
      " [-0.18336231  3.04376251 -1.25295974 -1.02161543]\n",
      " [-1.51324279  0.0686563  -1.25295974 -1.28469237]\n",
      " [ 1.02561995  0.0686563   0.55243065  0.42530771]\n",
      " [ 0.30023059 -0.16019803  0.66526755  0.81992312]\n",
      " [ 1.50921285 -0.16019803  1.22945205  1.21453852]\n",
      " [ 1.63011107  0.29751062  1.2858705   0.81992312]\n",
      " [-0.90875166  0.75521927 -1.25295974 -1.28469237]\n",
      " [ 2.2346022  -1.07561532  1.79363655  1.47761545]\n",
      " [ 0.17933237 -0.16019803  0.6088491   0.81992312]\n",
      " [ 0.90472172 -0.16019803  0.3831753   0.29376924]\n",
      " [-1.15054811  0.0686563  -1.25295974 -1.41623084]\n",
      " [ 0.54202704  0.52636495  1.2858705   1.74069239]\n",
      " [ 0.78382349 -0.61790668  0.4960122   0.42530771]\n",
      " [-0.06246408 -0.846761    0.21391995 -0.23238463]\n",
      " [ 0.42112882 -0.38905235  0.32675685  0.16223078]\n",
      " [-1.27144634  0.75521927 -1.02728594 -1.28469237]\n",
      " [-0.54605698  1.89949089 -1.36579664 -1.02161543]\n",
      " [-0.18336231 -0.38905235  0.2703384   0.16223078]\n",
      " [-0.30426053 -1.30446965  0.10108306 -0.10084616]\n",
      " [ 0.66292527 -0.846761    0.89094135  0.95146158]\n",
      " [ 0.54202704 -0.61790668  0.77810445  0.42530771]\n",
      " [-1.02964989  1.21292792 -1.30937819 -1.28469237]\n",
      " [ 1.14651817  0.29751062  1.22945205  1.47761545]\n",
      " [ 0.05843414 -0.16019803  0.2703384   0.42530771]\n",
      " [-0.54605698  1.44178224 -1.25295974 -1.28469237]\n",
      " [ 1.14651817 -0.16019803  1.00377825  1.21453852]\n",
      " [-1.27144634 -0.16019803 -1.30937819 -1.1531539 ]\n",
      " [-1.39234456  0.29751062 -1.19654129 -1.28469237]\n",
      " [ 2.2346022  -0.61790668  1.68079965  1.08300005]\n",
      " [-1.51324279  0.29751062 -1.30937819 -1.28469237]\n",
      " [ 1.63011107 -0.16019803  1.1730336   0.55684618]\n",
      " [ 0.78382349  0.29751062  0.77810445  1.08300005]\n",
      " [-0.54605698  0.75521927 -1.14012284 -1.28469237]\n",
      " [ 0.78382349 -0.16019803  0.8345229   1.08300005]\n",
      " [ 0.66292527  0.29751062  0.43959375  0.42530771]\n",
      " [-0.78785344  2.35719954 -1.25295974 -1.41623084]\n",
      " [-0.90875166  1.44178224 -1.25295974 -1.02161543]\n",
      " [ 1.02561995  0.0686563   1.0601967   1.60915392]\n",
      " [-0.78785344  0.98407359 -1.25295974 -1.28469237]\n",
      " [ 0.66292527  0.0686563   1.00377825  0.81992312]\n",
      " [ 0.54202704 -1.30446965  0.721686    0.95146158]\n",
      " [ 1.02561995 -0.16019803  0.721686    0.68838465]\n",
      " [ 0.54202704  0.52636495  0.55243065  0.55684618]\n",
      " [ 1.02561995 -0.16019803  0.8345229   1.47761545]\n",
      " [ 0.17933237 -0.38905235  0.43959375  0.42530771]\n",
      " [ 2.2346022  -0.16019803  1.34228895  1.47761545]\n",
      " [-1.15054811  0.0686563  -1.25295974 -1.41623084]\n",
      " [-0.06246408 -0.846761    0.77810445  0.95146158]\n",
      " [ 0.54202704 -1.30446965  0.66526755  0.42530771]\n",
      " [ 1.2674164   0.0686563   0.66526755  0.42530771]\n",
      " [-0.42515876  2.58605386 -1.30937819 -1.28469237]\n",
      " [-1.15054811 -0.16019803 -1.30937819 -1.28469237]\n",
      " [-0.90875166  0.98407359 -1.30937819 -1.28469237]\n",
      " [ 1.2674164   0.29751062  1.11661515  1.47761545]\n",
      " [-0.06246408 -0.846761    0.77810445  0.95146158]\n",
      " [ 0.30023059 -0.38905235  0.55243065  0.29376924]\n",
      " [-0.42515876  0.98407359 -1.36579664 -1.28469237]\n",
      " [ 0.17933237  0.75521927  0.43959375  0.55684618]\n",
      " [ 0.54202704 -0.38905235  1.0601967   0.81992312]\n",
      " [ 1.63011107  1.21292792  1.34228895  1.74069239]\n",
      " [-1.15054811 -1.53332397 -0.23742764 -0.23238463]\n",
      " [ 0.05843414 -0.16019803  0.77810445  0.81992312]\n",
      " [ 0.17933237 -1.99103262  0.721686    0.42530771]\n",
      " [ 0.90472172 -0.38905235  0.4960122   0.16223078]\n",
      " [ 0.17933237 -0.846761    0.77810445  0.55684618]\n",
      " [-1.02964989 -0.16019803 -1.19654129 -1.28469237]\n",
      " [-1.02964989 -1.7621783  -0.23742764 -0.23238463]\n",
      " [-0.30426053 -0.16019803  0.21391995  0.16223078]\n",
      " [ 1.7510093  -0.38905235  1.45512585  0.81992312]\n",
      " [-0.18336231 -0.16019803  0.2703384   0.03069231]\n",
      " [ 1.87190752 -0.61790668  1.34228895  0.95146158]\n",
      " [-1.63414101 -1.7621783  -1.36579664 -1.1531539 ]\n",
      " [ 0.30023059 -1.07561532  1.0601967   0.29376924]\n",
      " [ 0.42112882  0.75521927  0.9473598   1.47761545]\n",
      " [ 1.02561995  0.0686563   0.3831753   0.29376924]\n",
      " [-0.42515876 -1.53332397  0.04466461 -0.10084616]\n",
      " [-0.54605698  1.89949089 -1.14012284 -1.02161543]\n",
      " [ 1.02561995 -1.30446965  1.1730336   0.81992312]\n",
      " [-0.06246408 -0.846761    0.10108306  0.03069231]\n",
      " [-0.54605698  0.75521927 -1.25295974 -1.02161543]\n",
      " [-0.90875166 -1.30446965 -0.40668299 -0.10084616]\n",
      " [-1.15054811 -1.30446965  0.43959375  0.68838465]\n",
      " [-1.02964989  0.29751062 -1.42221509 -1.28469237]\n",
      " [-1.02964989  0.98407359 -1.19654129 -0.7585385 ]\n",
      " [-0.30426053 -0.61790668  0.66526755  1.08300005]\n",
      " [ 0.54202704 -1.7621783   0.3831753   0.16223078]\n",
      " [-0.90875166  1.67063657 -1.19654129 -1.28469237]\n",
      " [-0.90875166  1.67063657 -1.02728594 -1.02161543]\n",
      " [-1.02964989 -2.44874127 -0.12459074 -0.23238463]\n",
      " [-1.27144634  0.0686563  -1.19654129 -1.28469237]\n",
      " [ 1.2674164   0.0686563   0.77810445  1.47761545]\n",
      " [-0.18336231 -0.61790668  0.21391995  0.16223078]\n",
      " [ 2.47639865  1.67063657  1.5115443   1.08300005]\n",
      " [-1.51324279  1.21292792 -1.53505198 -1.28469237]\n",
      " [ 0.78382349 -0.16019803  1.1730336   1.34607699]\n",
      " [-0.06246408 -1.07561532  0.15750151  0.03069231]\n",
      " [-0.06246408  2.12834521 -1.42221509 -1.28469237]\n",
      " [-1.75503924 -0.38905235 -1.30937819 -1.28469237]\n",
      " [ 1.2674164   0.0686563   0.9473598   1.21453852]\n",
      " [-1.02964989  0.52636495 -1.30937819 -1.28469237]\n",
      " [ 0.30023059 -0.61790668  0.55243065  0.03069231]\n",
      " [ 0.30023059 -0.16019803  0.4960122   0.29376924]\n",
      " [-0.18336231 -0.61790668  0.43959375  0.16223078]\n",
      " [ 0.66292527 -0.38905235  0.32675685  0.16223078]\n",
      " [-0.90875166  1.67063657 -1.25295974 -1.1531539 ]\n",
      " [-0.06246408 -0.61790668  0.77810445  1.60915392]\n",
      " [ 0.30023059 -0.61790668  0.15750151  0.16223078]\n",
      " [-1.27144634 -0.16019803 -1.30937819 -1.41623084]\n",
      " [ 1.38831462  0.29751062  0.55243065  0.29376924]\n",
      " [-1.02964989  0.75521927 -1.25295974 -1.28469237]\n",
      " [ 0.05843414  0.29751062  0.6088491   0.81992312]]\n"
     ]
    }
   ],
   "source": [
    "print(X_train)"
   ]
  },
  {
   "cell_type": "markdown",
   "id": "18ece2e3",
   "metadata": {},
   "source": [
    "## Training the KNN model on the Training set"
   ]
  },
  {
   "cell_type": "code",
   "execution_count": 43,
   "id": "f1912917",
   "metadata": {},
   "outputs": [
    {
     "data": {
      "text/plain": [
       "KNeighborsClassifier()"
      ]
     },
     "execution_count": 43,
     "metadata": {},
     "output_type": "execute_result"
    }
   ],
   "source": [
    "from sklearn.neighbors import KNeighborsClassifier\n",
    "classifier = KNeighborsClassifier(n_neighbors = 5, metric = 'minkowski', p = 2)\n",
    "classifier.fit(X_train, y_train)"
   ]
  },
  {
   "cell_type": "code",
   "execution_count": 44,
   "id": "d66f2826",
   "metadata": {},
   "outputs": [
    {
     "name": "stdout",
     "output_type": "stream",
     "text": [
      "[['Iris-setosa' 'Iris-setosa']\n",
      " ['Iris-versicolor' 'Iris-versicolor']\n",
      " ['Iris-virginica' 'Iris-virginica']\n",
      " ['Iris-virginica' 'Iris-virginica']\n",
      " ['Iris-versicolor' 'Iris-versicolor']\n",
      " ['Iris-virginica' 'Iris-virginica']\n",
      " ['Iris-versicolor' 'Iris-versicolor']\n",
      " ['Iris-versicolor' 'Iris-versicolor']\n",
      " ['Iris-versicolor' 'Iris-versicolor']\n",
      " ['Iris-setosa' 'Iris-setosa']\n",
      " ['Iris-versicolor' 'Iris-versicolor']\n",
      " ['Iris-setosa' 'Iris-setosa']\n",
      " ['Iris-setosa' 'Iris-setosa']\n",
      " ['Iris-virginica' 'Iris-virginica']\n",
      " ['Iris-versicolor' 'Iris-versicolor']\n",
      " ['Iris-virginica' 'Iris-virginica']\n",
      " ['Iris-virginica' 'Iris-virginica']\n",
      " ['Iris-virginica' 'Iris-virginica']\n",
      " ['Iris-versicolor' 'Iris-versicolor']\n",
      " ['Iris-versicolor' 'Iris-versicolor']\n",
      " ['Iris-virginica' 'Iris-virginica']\n",
      " ['Iris-virginica' 'Iris-virginica']\n",
      " ['Iris-versicolor' 'Iris-versicolor']\n",
      " ['Iris-setosa' 'Iris-setosa']\n",
      " ['Iris-versicolor' 'Iris-versicolor']\n",
      " ['Iris-setosa' 'Iris-setosa']\n",
      " ['Iris-setosa' 'Iris-setosa']\n",
      " ['Iris-virginica' 'Iris-virginica']\n",
      " ['Iris-setosa' 'Iris-setosa']\n",
      " ['Iris-versicolor' 'Iris-versicolor']]\n"
     ]
    }
   ],
   "source": [
    "y_pred = classifier.predict(X_test)\n",
    "print(np.concatenate((y_pred.reshape(len(y_pred),1), y_test.reshape(len(y_test),1)),1))"
   ]
  },
  {
   "cell_type": "code",
   "execution_count": 45,
   "id": "680ab99f",
   "metadata": {},
   "outputs": [],
   "source": [
    "from sklearn.metrics import classification_report"
   ]
  },
  {
   "cell_type": "code",
   "execution_count": 46,
   "id": "758a9686",
   "metadata": {},
   "outputs": [
    {
     "name": "stdout",
     "output_type": "stream",
     "text": [
      "                 precision    recall  f1-score   support\n",
      "\n",
      "    Iris-setosa       1.00      1.00      1.00         8\n",
      "Iris-versicolor       1.00      1.00      1.00        12\n",
      " Iris-virginica       1.00      1.00      1.00        10\n",
      "\n",
      "       accuracy                           1.00        30\n",
      "      macro avg       1.00      1.00      1.00        30\n",
      "   weighted avg       1.00      1.00      1.00        30\n",
      "\n"
     ]
    }
   ],
   "source": [
    "print(classification_report(y_test,y_pred))"
   ]
  },
  {
   "cell_type": "markdown",
   "id": "8d55a879",
   "metadata": {},
   "source": [
    "## Making the confusion matrix"
   ]
  },
  {
   "cell_type": "code",
   "execution_count": 47,
   "id": "7e1749f7",
   "metadata": {},
   "outputs": [
    {
     "name": "stdout",
     "output_type": "stream",
     "text": [
      "[[ 8  0  0]\n",
      " [ 0 12  0]\n",
      " [ 0  0 10]]\n"
     ]
    },
    {
     "data": {
      "text/plain": [
       "1.0"
      ]
     },
     "execution_count": 47,
     "metadata": {},
     "output_type": "execute_result"
    }
   ],
   "source": [
    "from sklearn.metrics import confusion_matrix, accuracy_score\n",
    "cm = confusion_matrix(y_test, y_pred)\n",
    "print(cm)\n",
    "accuracy_score(y_test, y_pred)"
   ]
  },
  {
   "cell_type": "code",
   "execution_count": 48,
   "id": "abe9ec2c",
   "metadata": {},
   "outputs": [
    {
     "data": {
      "text/plain": [
       "<sklearn.metrics._plot.confusion_matrix.ConfusionMatrixDisplay at 0x1884aa3df40>"
      ]
     },
     "execution_count": 48,
     "metadata": {},
     "output_type": "execute_result"
    },
    {
     "data": {
      "image/png": "[encoded data removed]",
      "text/plain": [
       "<Figure size 432x288 with 2 Axes>"
      ]
     },
     "metadata": {
      "needs_background": "light"
     },
     "output_type": "display_data"
    }
   ],
   "source": [
    "from sklearn.metrics import plot_confusion_matrix\n",
    "plot_confusion_matrix(classifier,X_test,y_test)"
   ]
  },
  {
   "cell_type": "markdown",
   "id": "1ac408b3",
   "metadata": {},
   "source": [
    "###   Are we using the correct K value for our data?"
   ]
  },
  {
   "cell_type": "code",
   "execution_count": 49,
   "id": "3d8e3a66",
   "metadata": {},
   "outputs": [],
   "source": [
    "# run through k = 2,3,4,5,...18 \n",
    "# for loop to this \n",
    "#collect the errors for each k attempt \n",
    "#plot the errors on a chart \n",
    "\n",
    "error = []\n",
    "for i in range(2,18):\n",
    "    knn=KNeighborsClassifier(n_neighbors=i)\n",
    "    knn.fit(X_train,y_train)\n",
    "    pred_i=knn.predict(X_test)\n",
    "    error.append(np.mean(pred_i !=y_test))"
   ]
  },
  {
   "cell_type": "code",
   "execution_count": 50,
   "id": "4ca9c2c3",
   "metadata": {},
   "outputs": [
    {
     "data": {
      "text/plain": [
       "Text(0, 0.5, 'avgerror')"
      ]
     },
     "execution_count": 50,
     "metadata": {},
     "output_type": "execute_result"
    },
    {
     "data": {
      "image/png": "[encoded data removed]",
      "text/plain": [
       "<Figure size 576x432 with 1 Axes>"
      ]
     },
     "metadata": {
      "needs_background": "light"
     },
     "output_type": "display_data"
    }
   ],
   "source": [
    "plt.figure(figsize=(8,6))\n",
    "plt.plot(range(2,18), error, \n",
    "        color='red',marker='o', markerfacecolor='blue', markersize=10 )\n",
    "plt.title('ErrorinK')\n",
    "plt.xlabel('K val')\n",
    "plt.ylabel('avgerror')"
   ]
  },
  {
   "cell_type": "code",
   "execution_count": null,
   "id": "1a90f5d7",
   "metadata": {},
   "outputs": [],
   "source": []
  }
 ],
 "metadata": {
  "kernelspec": {
   "display_name": "Python 3",
   "language": "python",
   "name": "python3"
  },
  "language_info": {
   "codemirror_mode": {
    "name": "ipython",
    "version": 3
   },
   "file_extension": ".py",
   "mimetype": "text/x-python",
   "name": "python",
   "nbconvert_exporter": "python",
   "pygments_lexer": "ipython3",
   "version": "3.8.10"
  },
  "toc": {
   "base_numbering": 1,
   "nav_menu": {},
   "number_sections": false,
   "sideBar": true,
   "skip_h1_title": false,
   "title_cell": "Table of Contents",
   "title_sidebar": "Contents",
   "toc_cell": false,
   "toc_position": {},
   "toc_section_display": true,
   "toc_window_display": true
  }
 },
 "nbformat": 4,
 "nbformat_minor": 5
}
